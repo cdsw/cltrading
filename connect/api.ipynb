{
 "cells": [
  {
   "cell_type": "code",
   "execution_count": 21,
   "metadata": {},
   "outputs": [],
   "source": [
    "import pandas as pd\n",
    "from binance.client import Client"
   ]
  },
  {
   "cell_type": "code",
   "execution_count": 22,
   "metadata": {},
   "outputs": [],
   "source": [
    "AFX_S = \"bPSsawsijUD2whcHqDDrw3pKW4JpklhojO6zBqC0LBSAJXUOOnmpYiDeMeQCaVEN\"\n",
    "SXT_S = \"CnH9ipolIa5tl43rPShLNJfqPD4OhsO8vcz05njvFwDWDQrVSl3nNdQjQnZMLEtn\"\n",
    "AFX_F = \"30578a4f5a2cc99ed9bc186c5f2836908d2a47a0546894f178d2932326461a88\"\n",
    "SXT_F = \"c5c348f892f60490af9acced434ee82fc13d932dcccf38b5a6e477ccbfe850e3\"\n",
    "# nom testnetape\n",
    "# perm TRADE, USER_DATA, USER_STREAM, MARKET_DATA, SECURE_WEB_SOCKET\n"
   ]
  },
  {
   "cell_type": "code",
   "execution_count": 29,
   "metadata": {},
   "outputs": [
    {
     "name": "stdout",
     "output_type": "stream",
     "text": [
      "{'symbol': 'BTCUSDT', 'leverage': 5, 'maxNotionalValue': '100000000'}\n"
     ]
    }
   ],
   "source": [
    "client = Client(AFX_F, SXT_F, testnet=True)\n",
    "acc = client.futures_change_leverage(symbol='BTCUSDT', leverage=5)\n",
    "# acc = client.futures_create_order(\n",
    "#   symbol=\"BTCUSDT\",\n",
    "#   side=\"BUY\",\n",
    "#   positionSide=\"LONG\",\n",
    "#   type= \"MARKET\",\n",
    "#   quantity= 0.02,\n",
    "# )\n",
    "# df = pd.DataFrame(tickers)\n",
    "print(acc)"
   ]
  },
  {
   "cell_type": "code",
   "execution_count": null,
   "metadata": {},
   "outputs": [],
   "source": []
  }
 ],
 "metadata": {
  "kernelspec": {
   "display_name": "Python 3",
   "language": "python",
   "name": "python3"
  },
  "language_info": {
   "codemirror_mode": {
    "name": "ipython",
    "version": 3
   },
   "file_extension": ".py",
   "mimetype": "text/x-python",
   "name": "python",
   "nbconvert_exporter": "python",
   "pygments_lexer": "ipython3",
   "version": "3.7.9"
  }
 },
 "nbformat": 4,
 "nbformat_minor": 2
}
