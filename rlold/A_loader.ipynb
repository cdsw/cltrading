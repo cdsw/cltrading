{
 "cells": [
  {
   "cell_type": "code",
   "execution_count": 1,
   "metadata": {},
   "outputs": [],
   "source": [
    "import pandas\n",
    "import matplotlib.pyplot as plt\n",
    "import numpy as np\n",
    "\n",
    "def getStationary(df):\n",
    "  df['delta'] = (df['open'] / df ['close']) - 1\n",
    "  df['amplitude'] = (df['high'] / df['low']) - 1\n",
    "  df['close_over_low'] = (df['close'] / df ['low']) - 1\n",
    "  del df['open']\n",
    "  del df['high']\n",
    "  del df['low']\n",
    "  df['volume'] = df['volume']\n",
    "  df['volume'].replace(0, 0.00001, inplace=True)\n",
    "\n",
    "  df['close'] = df['close']\n",
    "  return df"
   ]
  },
  {
   "cell_type": "code",
   "execution_count": 2,
   "metadata": {},
   "outputs": [],
   "source": [
    "to_clean_name = 'btc22'\n",
    "\n",
    "dat = ((pandas.read_csv(f'../data/{to_clean_name}.csv',sep=',')).sort_values('date')[['date','open','high','low','close','volume']]).set_index('date')\n",
    "dat = getStationary(dat)"
   ]
  },
  {
   "cell_type": "code",
   "execution_count": 3,
   "metadata": {},
   "outputs": [],
   "source": [
    "dat.to_csv(f'../data/{to_clean_name}clean.csv')"
   ]
  },
  {
   "cell_type": "code",
   "execution_count": null,
   "metadata": {},
   "outputs": [],
   "source": []
  }
 ],
 "metadata": {
  "kernelspec": {
   "display_name": "Python 3",
   "language": "python",
   "name": "python3"
  },
  "language_info": {
   "codemirror_mode": {
    "name": "ipython",
    "version": 3
   },
   "file_extension": ".py",
   "mimetype": "text/x-python",
   "name": "python",
   "nbconvert_exporter": "python",
   "pygments_lexer": "ipython3",
   "version": "3.9.5"
  }
 },
 "nbformat": 4,
 "nbformat_minor": 2
}
