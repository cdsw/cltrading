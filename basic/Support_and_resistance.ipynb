{
  "cells": [
    {
      "cell_type": "markdown",
      "metadata": {
        "colab_type": "text",
        "id": "vVfmDQwCwV8j"
      },
      "source": [
        "https://saralgyaan.com/posts/python-candlestick-chart-matplotlib-tutorial-chapter-11/\n"
      ]
    },
    {
      "cell_type": "code",
      "execution_count": 16,
      "metadata": {
        "colab": {
          "base_uri": "https://localhost:8080/",
          "height": 230
        },
        "colab_type": "code",
        "id": "k8sivY1bjC9Y",
        "outputId": "5b9d2680-19a9-4093-bcb9-e770a876e517"
      },
      "outputs": [],
      "source": [
        "# !pip install yfinance\n",
        "# !pip install mpl_finance"
      ]
    },
    {
      "cell_type": "code",
      "execution_count": 17,
      "metadata": {
        "colab": {},
        "colab_type": "code",
        "id": "DRwrGVy9iyCO",
        "trusted": true
      },
      "outputs": [],
      "source": [
        "import pandas as pd\n",
        "import numpy as np\n",
        "import yfinance\n",
        "from mpl_finance import candlestick_ohlc\n",
        "import matplotlib.dates as mpl_dates\n",
        "import matplotlib.pyplot as plt\n",
        "\n",
        "plt.rcParams['figure.figsize'] = [12, 7]\n",
        "\n",
        "plt.rc('font', size=14) "
      ]
    },
    {
      "cell_type": "code",
      "execution_count": 18,
      "metadata": {
        "colab": {},
        "colab_type": "code",
        "id": "6u85RbZpjIk2"
      },
      "outputs": [],
      "source": [
        "name = 'BTC-USD'\n",
        "ticker = yfinance.Ticker(name)\n",
        "df = ticker.history(interval=\"1d\",start=\"2023-03-15\",end=\"2023-07-15\")\n",
        "\n"
      ]
    },
    {
      "cell_type": "code",
      "execution_count": 19,
      "metadata": {
        "colab": {},
        "colab_type": "code",
        "id": "mKZn1fMevqLG"
      },
      "outputs": [],
      "source": [
        "df['Date'] = pd.to_datetime(df.index)\n",
        "df['Date'] = df['Date'].apply(mpl_dates.date2num)\n",
        "\n",
        "df = df.loc[:,['Date', 'Open', 'High', 'Low', 'Close']]"
      ]
    },
    {
      "cell_type": "code",
      "execution_count": 20,
      "metadata": {
        "colab": {
          "base_uri": "https://localhost:8080/",
          "height": 441
        },
        "colab_type": "code",
        "id": "fnZATktnv-1w",
        "outputId": "cdc08020-9787-4f4a-8dd4-5fea3aac9740"
      },
      "outputs": [
        {
          "data": {
            "text/html": [
              "<div>\n",
              "<style scoped>\n",
              "    .dataframe tbody tr th:only-of-type {\n",
              "        vertical-align: middle;\n",
              "    }\n",
              "\n",
              "    .dataframe tbody tr th {\n",
              "        vertical-align: top;\n",
              "    }\n",
              "\n",
              "    .dataframe thead th {\n",
              "        text-align: right;\n",
              "    }\n",
              "</style>\n",
              "<table border=\"1\" class=\"dataframe\">\n",
              "  <thead>\n",
              "    <tr style=\"text-align: right;\">\n",
              "      <th></th>\n",
              "      <th>Date</th>\n",
              "      <th>Open</th>\n",
              "      <th>High</th>\n",
              "      <th>Low</th>\n",
              "      <th>Close</th>\n",
              "    </tr>\n",
              "    <tr>\n",
              "      <th>Date</th>\n",
              "      <th></th>\n",
              "      <th></th>\n",
              "      <th></th>\n",
              "      <th></th>\n",
              "      <th></th>\n",
              "    </tr>\n",
              "  </thead>\n",
              "  <tbody>\n",
              "    <tr>\n",
              "      <th>2023-03-15 00:00:00+00:00</th>\n",
              "      <td>738594.0</td>\n",
              "      <td>24770.925781</td>\n",
              "      <td>25240.615234</td>\n",
              "      <td>23964.910156</td>\n",
              "      <td>24375.960938</td>\n",
              "    </tr>\n",
              "    <tr>\n",
              "      <th>2023-03-16 00:00:00+00:00</th>\n",
              "      <td>738595.0</td>\n",
              "      <td>24373.457031</td>\n",
              "      <td>25190.326172</td>\n",
              "      <td>24225.111328</td>\n",
              "      <td>25052.789062</td>\n",
              "    </tr>\n",
              "    <tr>\n",
              "      <th>2023-03-17 00:00:00+00:00</th>\n",
              "      <td>738596.0</td>\n",
              "      <td>25055.123047</td>\n",
              "      <td>27787.812500</td>\n",
              "      <td>24955.169922</td>\n",
              "      <td>27423.929688</td>\n",
              "    </tr>\n",
              "    <tr>\n",
              "      <th>2023-03-18 00:00:00+00:00</th>\n",
              "      <td>738597.0</td>\n",
              "      <td>27448.117188</td>\n",
              "      <td>27725.953125</td>\n",
              "      <td>26636.261719</td>\n",
              "      <td>26965.878906</td>\n",
              "    </tr>\n",
              "    <tr>\n",
              "      <th>2023-03-19 00:00:00+00:00</th>\n",
              "      <td>738598.0</td>\n",
              "      <td>26969.503906</td>\n",
              "      <td>28440.560547</td>\n",
              "      <td>26907.716797</td>\n",
              "      <td>28038.675781</td>\n",
              "    </tr>\n",
              "    <tr>\n",
              "      <th>...</th>\n",
              "      <td>...</td>\n",
              "      <td>...</td>\n",
              "      <td>...</td>\n",
              "      <td>...</td>\n",
              "      <td>...</td>\n",
              "    </tr>\n",
              "    <tr>\n",
              "      <th>2023-07-10 00:00:00+00:00</th>\n",
              "      <td>738711.0</td>\n",
              "      <td>30172.423828</td>\n",
              "      <td>31026.083984</td>\n",
              "      <td>29985.394531</td>\n",
              "      <td>30414.470703</td>\n",
              "    </tr>\n",
              "    <tr>\n",
              "      <th>2023-07-11 00:00:00+00:00</th>\n",
              "      <td>738712.0</td>\n",
              "      <td>30417.632812</td>\n",
              "      <td>30788.314453</td>\n",
              "      <td>30358.097656</td>\n",
              "      <td>30620.951172</td>\n",
              "    </tr>\n",
              "    <tr>\n",
              "      <th>2023-07-12 00:00:00+00:00</th>\n",
              "      <td>738713.0</td>\n",
              "      <td>30622.246094</td>\n",
              "      <td>30959.964844</td>\n",
              "      <td>30228.835938</td>\n",
              "      <td>30391.646484</td>\n",
              "    </tr>\n",
              "    <tr>\n",
              "      <th>2023-07-13 00:00:00+00:00</th>\n",
              "      <td>738714.0</td>\n",
              "      <td>30387.488281</td>\n",
              "      <td>31814.515625</td>\n",
              "      <td>30268.351562</td>\n",
              "      <td>31476.048828</td>\n",
              "    </tr>\n",
              "    <tr>\n",
              "      <th>2023-07-14 00:00:00+00:00</th>\n",
              "      <td>738715.0</td>\n",
              "      <td>31474.720703</td>\n",
              "      <td>31582.253906</td>\n",
              "      <td>29966.386719</td>\n",
              "      <td>30334.068359</td>\n",
              "    </tr>\n",
              "  </tbody>\n",
              "</table>\n",
              "<p>122 rows × 5 columns</p>\n",
              "</div>"
            ],
            "text/plain": [
              "                               Date          Open          High           Low  \\\n",
              "Date                                                                            \n",
              "2023-03-15 00:00:00+00:00  738594.0  24770.925781  25240.615234  23964.910156   \n",
              "2023-03-16 00:00:00+00:00  738595.0  24373.457031  25190.326172  24225.111328   \n",
              "2023-03-17 00:00:00+00:00  738596.0  25055.123047  27787.812500  24955.169922   \n",
              "2023-03-18 00:00:00+00:00  738597.0  27448.117188  27725.953125  26636.261719   \n",
              "2023-03-19 00:00:00+00:00  738598.0  26969.503906  28440.560547  26907.716797   \n",
              "...                             ...           ...           ...           ...   \n",
              "2023-07-10 00:00:00+00:00  738711.0  30172.423828  31026.083984  29985.394531   \n",
              "2023-07-11 00:00:00+00:00  738712.0  30417.632812  30788.314453  30358.097656   \n",
              "2023-07-12 00:00:00+00:00  738713.0  30622.246094  30959.964844  30228.835938   \n",
              "2023-07-13 00:00:00+00:00  738714.0  30387.488281  31814.515625  30268.351562   \n",
              "2023-07-14 00:00:00+00:00  738715.0  31474.720703  31582.253906  29966.386719   \n",
              "\n",
              "                                  Close  \n",
              "Date                                     \n",
              "2023-03-15 00:00:00+00:00  24375.960938  \n",
              "2023-03-16 00:00:00+00:00  25052.789062  \n",
              "2023-03-17 00:00:00+00:00  27423.929688  \n",
              "2023-03-18 00:00:00+00:00  26965.878906  \n",
              "2023-03-19 00:00:00+00:00  28038.675781  \n",
              "...                                 ...  \n",
              "2023-07-10 00:00:00+00:00  30414.470703  \n",
              "2023-07-11 00:00:00+00:00  30620.951172  \n",
              "2023-07-12 00:00:00+00:00  30391.646484  \n",
              "2023-07-13 00:00:00+00:00  31476.048828  \n",
              "2023-07-14 00:00:00+00:00  30334.068359  \n",
              "\n",
              "[122 rows x 5 columns]"
            ]
          },
          "execution_count": 20,
          "metadata": {},
          "output_type": "execute_result"
        }
      ],
      "source": [
        "df"
      ]
    },
    {
      "cell_type": "code",
      "execution_count": 21,
      "metadata": {
        "colab": {},
        "colab_type": "code",
        "id": "Vz3tA1pnxRle"
      },
      "outputs": [],
      "source": [
        "def isSupport(df,i):\n",
        "  support = df['Low'][i] < df['Low'][i-1]  and df['Low'][i] < df['Low'][i+1] \\\n",
        "  and df['Low'][i+1] < df['Low'][i+2] and df['Low'][i-1] < df['Low'][i-2]\n",
        "\n",
        "  return support\n",
        "\n",
        "def isResistance(df,i):\n",
        "  resistance = df['High'][i] > df['High'][i-1]  and df['High'][i] > df['High'][i+1] \\\n",
        "  and df['High'][i+1] > df['High'][i+2] and df['High'][i-1] > df['High'][i-2] \n",
        "\n",
        "  return resistance"
      ]
    },
    {
      "cell_type": "code",
      "execution_count": 22,
      "metadata": {
        "colab": {},
        "colab_type": "code",
        "id": "FrD0cN7bxKKb"
      },
      "outputs": [],
      "source": [
        "levels = []\n",
        "for i in range(2,df.shape[0]-2):\n",
        "  if isSupport(df,i):\n",
        "    levels.append((i,df['Low'][i]))\n",
        "  elif isResistance(df,i):\n",
        "    levels.append((i,df['High'][i]))\n"
      ]
    },
    {
      "cell_type": "code",
      "execution_count": 23,
      "metadata": {
        "colab": {},
        "colab_type": "code",
        "id": "yH3CyoKbvZpZ"
      },
      "outputs": [],
      "source": [
        "def plot_all():\n",
        "  fig, ax = plt.subplots()\n",
        "\n",
        "  candlestick_ohlc(ax,df.values,width=0.6, \\\n",
        "                   colorup='green', colordown='red', alpha=0.8)\n",
        "\n",
        "  date_format = mpl_dates.DateFormatter('%d %b %Y')\n",
        "  ax.xaxis.set_major_formatter(date_format)\n",
        "  fig.autofmt_xdate()\n",
        "\n",
        "  fig.tight_layout()\n",
        "\n",
        "  for level in levels:\n",
        "    plt.hlines(level[1],xmin=df['Date'][level[0]],\\\n",
        "               xmax=max(df['Date']),colors='blue')\n",
        "  fig.show()"
      ]
    },
    {
      "cell_type": "code",
      "execution_count": 24,
      "metadata": {
        "colab": {
          "base_uri": "https://localhost:8080/",
          "height": 505
        },
        "colab_type": "code",
        "id": "JRS4Zyds3i80",
        "outputId": "68dd878d-ee4d-4496-e88d-b5cab6bd6c7d"
      },
      "outputs": [
        {
          "name": "stderr",
          "output_type": "stream",
          "text": [
            "C:\\Users\\clementich\\AppData\\Roaming\\Python\\Python37\\site-packages\\ipykernel_launcher.py:16: UserWarning: Matplotlib is currently using module://ipykernel.pylab.backend_inline, which is a non-GUI backend, so cannot show the figure.\n",
            "  app.launch_new_instance()\n"
          ]
        },
        {
          "data": {
            "image/png": "[encoded data removed]",
            "text/plain": [
              "<Figure size 864x504 with 1 Axes>"
            ]
          },
          "metadata": {
            "needs_background": "light"
          },
          "output_type": "display_data"
        }
      ],
      "source": [
        "plot_all()"
      ]
    },
    {
      "cell_type": "code",
      "execution_count": 25,
      "metadata": {
        "colab": {},
        "colab_type": "code",
        "id": "CZE2z86rVFqf"
      },
      "outputs": [],
      "source": [
        "s =  np.mean(df['High'] - df['Low'])"
      ]
    },
    {
      "cell_type": "code",
      "execution_count": 26,
      "metadata": {
        "colab": {},
        "colab_type": "code",
        "id": "_Pm8EsWIaGX8"
      },
      "outputs": [],
      "source": [
        "def isFarFromLevel(l):\n",
        "  return np.sum([abs(l-x) < s  for x in levels]) == 0"
      ]
    },
    {
      "cell_type": "code",
      "execution_count": 27,
      "metadata": {
        "colab": {},
        "colab_type": "code",
        "id": "YBz47_hO3dN6"
      },
      "outputs": [],
      "source": [
        "levels = []\n",
        "for i in range(2,df.shape[0]-2):\n",
        "  if isSupport(df,i):\n",
        "    l = df['Low'][i]\n",
        "\n",
        "    if isFarFromLevel(l):\n",
        "      levels.append((i,l))\n",
        "\n",
        "  elif isResistance(df,i):\n",
        "    l = df['High'][i]\n",
        "\n",
        "    if isFarFromLevel(l):\n",
        "      levels.append((i,l))\n",
        "    "
      ]
    },
    {
      "cell_type": "code",
      "execution_count": 28,
      "metadata": {
        "colab": {
          "base_uri": "https://localhost:8080/",
          "height": 124
        },
        "colab_type": "code",
        "id": "9KbA7dnB4M0g",
        "outputId": "083d9a97-714d-459b-d4be-37f4a15479d4"
      },
      "outputs": [
        {
          "data": {
            "text/plain": [
              "[(19, 27276.720703125),\n",
              " (30, 31005.607421875),\n",
              " (42, 29995.837890625),\n",
              " (71, 25890.59375),\n",
              " (75, 28432.0390625),\n",
              " (92, 24797.16796875)]"
            ]
          },
          "execution_count": 28,
          "metadata": {},
          "output_type": "execute_result"
        }
      ],
      "source": [
        "levels"
      ]
    },
    {
      "cell_type": "code",
      "execution_count": 29,
      "metadata": {
        "colab": {
          "base_uri": "https://localhost:8080/",
          "height": 505
        },
        "colab_type": "code",
        "id": "oOzjhPL04UjU",
        "outputId": "8ce686f8-0c8d-445c-cc68-21c4368ca994"
      },
      "outputs": [
        {
          "name": "stderr",
          "output_type": "stream",
          "text": [
            "C:\\Users\\clementich\\AppData\\Roaming\\Python\\Python37\\site-packages\\ipykernel_launcher.py:16: UserWarning: Matplotlib is currently using module://ipykernel.pylab.backend_inline, which is a non-GUI backend, so cannot show the figure.\n",
            "  app.launch_new_instance()\n"
          ]
        },
        {
          "data": {
            "image/png": "[encoded data removed]",
            "text/plain": [
              "<Figure size 864x504 with 1 Axes>"
            ]
          },
          "metadata": {
            "needs_background": "light"
          },
          "output_type": "display_data"
        }
      ],
      "source": [
        "plot_all()"
      ]
    },
    {
      "cell_type": "code",
      "execution_count": null,
      "metadata": {
        "colab": {},
        "colab_type": "code",
        "id": "n6sznBke5KBb"
      },
      "outputs": [],
      "source": []
    }
  ],
  "metadata": {
    "colab": {
      "name": "Support and resistance.ipynb",
      "provenance": []
    },
    "kernelspec": {
      "display_name": "Python 3",
      "language": "python",
      "name": "python3"
    },
    "language_info": {
      "codemirror_mode": {
        "name": "ipython",
        "version": 3
      },
      "file_extension": ".py",
      "mimetype": "text/x-python",
      "name": "python",
      "nbconvert_exporter": "python",
      "pygments_lexer": "ipython3",
      "version": "3.7.9"
    }
  },
  "nbformat": 4,
  "nbformat_minor": 0
}
