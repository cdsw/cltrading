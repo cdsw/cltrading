{
 "cells": [
  {
   "cell_type": "code",
   "execution_count": 1,
   "metadata": {},
   "outputs": [
    {
     "name": "stdout",
     "output_type": "stream",
     "text": [
      "                       date     open     high      low    close  volume\n",
      "523607  2021-01-01 16:39:00  38.3373  38.3717  38.3367  38.3693  217.43\n",
      "523608  2021-01-01 16:38:00  38.3325  38.3577  38.3229  38.3373   69.95\n",
      "523609  2021-01-01 16:37:00  38.3254  38.3607  38.3223  38.3430   56.48\n",
      "523610  2021-01-01 16:36:00  38.3145  38.3334  38.3134  38.3190   50.26\n",
      "523611  2021-01-01 16:35:00  38.3404  38.3512  38.2901  38.3078   58.68\n",
      "...                     ...      ...      ...      ...      ...     ...\n",
      "524602  2021-01-01 00:04:00  37.3381  37.3581  37.3160  37.3314  216.20\n",
      "524603  2021-01-01 00:03:00  37.3847  37.3847  37.3398  37.3398  391.06\n",
      "524604  2021-01-01 00:02:00  37.4448  37.4460  37.3686  37.3969  591.96\n",
      "524605  2021-01-01 00:01:00  37.4231  37.4707  37.4049  37.4362  309.48\n",
      "524606  2021-01-01 00:00:00  37.4121  37.4258  37.3931  37.4160   91.89\n",
      "\n",
      "[1000 rows x 6 columns]\n"
     ]
    }
   ],
   "source": [
    "import pandas as pd\n",
    "import plotly.graph_objs as go\n",
    "\n",
    "# Read the CSV file into a DataFrame, selecting the last 1000 rows\n",
    "data = pd.read_csv('../data/bnb21.csv', usecols=['date', 'open', 'high', 'low', 'close', 'volume']).tail(1000)\n",
    "\n",
    "print(data)"
   ]
  },
  {
   "cell_type": "code",
   "execution_count": null,
   "metadata": {},
   "outputs": [],
   "source": []
  }
 ],
 "metadata": {
  "kernelspec": {
   "display_name": "Python 3",
   "language": "python",
   "name": "python3"
  },
  "language_info": {
   "codemirror_mode": {
    "name": "ipython",
    "version": 3
   },
   "file_extension": ".py",
   "mimetype": "text/x-python",
   "name": "python",
   "nbconvert_exporter": "python",
   "pygments_lexer": "ipython3",
   "version": "3.7.9"
  }
 },
 "nbformat": 4,
 "nbformat_minor": 2
}
