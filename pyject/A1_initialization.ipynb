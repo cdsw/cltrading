{
 "cells": [
  {
   "cell_type": "code",
   "execution_count": 12,
   "metadata": {},
   "outputs": [],
   "source": [
    "import cryptocompare\n",
    "import pandas as pd\n",
    "from datetime import datetime\n",
    "\n",
    "import matplotlib.pyplot as plt\n",
    "%matplotlib inline\n",
    "plt.style.use('seaborn-darkgrid')"
   ]
  },
  {
   "cell_type": "code",
   "execution_count": 13,
   "metadata": {},
   "outputs": [
    {
     "name": "stdout",
     "output_type": "stream",
     "text": [
      "API Key set!\n"
     ]
    }
   ],
   "source": [
    "cryptocompare_API_key = 'd06d4760932b2b4a3f581de5a75d7e8e84ab84257a9880105c9ac47f4afa3fca'\n",
    "cryptocompare.cryptocompare._set_api_key_parameter(cryptocompare_API_key)\n",
    "print(\"API Key set!\")"
   ]
  },
  {
   "cell_type": "code",
   "execution_count": 14,
   "metadata": {},
   "outputs": [],
   "source": [
    "# Add EMA28, MACD\n",
    "\n",
    "def drop_columns(df, colnames=['volumefrom', 'volumeto']):\n",
    "    for cn in colnames:\n",
    "        try:\n",
    "          df.drop(cn, inplace=True, axis=1)\n",
    "        except:\n",
    "            pass\n",
    "    return df\n",
    "\n",
    "def add_ema(df, ema=28):\n",
    "    # df['backward_ewm'] = df['Close'].ewm(span=ema,min_periods=0,adjust=False,ignore_na=False).mean()\n",
    "    df = df.sort_index()\n",
    "    df['ewm'] = df['close'].ewm(span=ema,min_periods=0,adjust=False,ignore_na=False).mean()\n",
    "    return df\n",
    "\n",
    "def add_macd(df, e1=12, e2=26, e3=9):\n",
    "    df = df.sort_index()\n",
    "    exp1 = df['close'].ewm(span=e1, adjust=False).mean()\n",
    "    exp2 = df['close'].ewm(span=e2, adjust=False).mean()\n",
    "    macd = exp1 - exp2\n",
    "    macd_signal = macd.ewm(span=e3, adjust=False).mean()\n",
    "    df['macd_histo'] = macd - macd_signal\n",
    "    return df\n",
    "\n",
    "def add_returns(df):\n",
    "    df['return'] = df['close'].pct_change(1)\n",
    "    return df\n",
    "\n",
    "\n",
    "def prepare(df):\n",
    "    df = add_returns(add_macd(add_ema(drop_columns(df))))\n",
    "    return df"
   ]
  },
  {
   "cell_type": "code",
   "execution_count": 15,
   "metadata": {},
   "outputs": [],
   "source": [
    "# Parameters\n",
    "ticker_symbol = 'BTC'\n",
    "currency = 'USD'\n",
    "limit_value_hour = 2000 \n",
    "limit_value_minute = 2000\n",
    "exchange_name = 'CCCAGG'\n",
    "bull_market_hourly_timestamp_end = datetime(2023, 2, 1, 0, 0)\n",
    "bear_market_hourly_timestamp_end = datetime(2022, 2, 1, 0, 0)\n",
    "\n",
    "bull_market_minute_timestamp_end = datetime(2023, 2, 16, 0, 0)\n",
    "crab_market_minute_timestamp_end = datetime(2023, 2, 18, 0, 0)"
   ]
  },
  {
   "cell_type": "code",
   "execution_count": 16,
   "metadata": {},
   "outputs": [],
   "source": [
    "# Hourly data: bear\n",
    "raw_price_data_bear_hour = \\\n",
    "    cryptocompare.get_historical_price_hour(\n",
    "        ticker_symbol,\n",
    "        currency,\n",
    "        limit=limit_value_hour,\n",
    "        exchange=exchange_name,\n",
    "        toTs=bear_market_hourly_timestamp_end\n",
    "    )\n",
    "\n",
    "# Convert the raw price data into a DataFrame\n",
    "hourly_price_data_bear = pd.DataFrame.from_dict(raw_price_data_bear_hour)\n",
    "\n",
    "# Set the time columns as index and convert it to datetime\n",
    "hourly_price_data_bear.set_index(\"time\", inplace=True)\n",
    "hourly_price_data_bear.index = pd.to_datetime(hourly_price_data_bear.index, unit='s')\n",
    "hourly_price_data_bear['datetimes'] = hourly_price_data_bear.index\n",
    "hourly_price_data_bear['datetimes'] = hourly_price_data_bear['datetimes'].dt.strftime(\n",
    "    '%Y-%m-%d')\n",
    "\n",
    "hourly_data_bear = prepare(hourly_price_data_bear.iloc[:, :6])\n",
    "hourly_data_bear.to_pickle('./hourly_bear.pkl')"
   ]
  },
  {
   "cell_type": "code",
   "execution_count": 17,
   "metadata": {},
   "outputs": [],
   "source": [
    "# Hourly data: bull\n",
    "raw_price_data_bull_hour = \\\n",
    "    cryptocompare.get_historical_price_hour(\n",
    "        ticker_symbol,\n",
    "        currency,\n",
    "        limit=limit_value_hour,\n",
    "        exchange=exchange_name,\n",
    "        toTs=bull_market_hourly_timestamp_end\n",
    "    )\n",
    "\n",
    "# Convert the raw price data into a DataFrame\n",
    "hourly_price_data_bull = pd.DataFrame.from_dict(raw_price_data_bull_hour)\n",
    "\n",
    "# Set the time columns as index and convert it to datetime\n",
    "hourly_price_data_bull.set_index(\"time\", inplace=True)\n",
    "hourly_price_data_bull.index = pd.to_datetime(hourly_price_data_bull.index, unit='s')\n",
    "hourly_price_data_bull['datetimes'] = hourly_price_data_bull.index\n",
    "hourly_price_data_bull['datetimes'] = hourly_price_data_bull['datetimes'].dt.strftime(\n",
    "    '%Y-%m-%d')\n",
    "\n",
    "hourly_data_bull = prepare(hourly_price_data_bull.iloc[:, :6])\n",
    "hourly_data_bull.to_pickle('./hourly_bull.pkl')"
   ]
  },
  {
   "cell_type": "code",
   "execution_count": 18,
   "metadata": {},
   "outputs": [],
   "source": [
    "# Minute data: bull\n",
    "raw_price_data_bull_minute = \\\n",
    "  cryptocompare.get_historical_price_minute(\n",
    "    ticker_symbol,\n",
    "    currency,\n",
    "    limit=limit_value_minute,\n",
    "    exchange=exchange_name,\n",
    "    toTs=bull_market_minute_timestamp_end\n",
    "  )\n",
    "\n",
    "# Convert the raw price data into a DataFrame\n",
    "minutely_price_data_bull = pd.DataFrame.from_dict(raw_price_data_bull_minute)\n",
    "\n",
    "# Set the time columns as index and convert it to datetime\n",
    "minutely_price_data_bull.set_index(\"time\", inplace=True)\n",
    "minutely_price_data_bull.index = pd.to_datetime(minutely_price_data_bull.index, unit='s')\n",
    "minutely_price_data_bull['datetimes'] = minutely_price_data_bull.index\n",
    "minutely_price_data_bull['datetimes'] = minutely_price_data_bull['datetimes'].dt.strftime(\n",
    "  '%Y-%m-%d')\n",
    "\n",
    "minutely_data_bull = prepare(minutely_price_data_bull.iloc[:, :6])\n",
    "minutely_data_bull.to_pickle('./minutely_bull.pkl')"
   ]
  },
  {
   "cell_type": "code",
   "execution_count": 19,
   "metadata": {},
   "outputs": [],
   "source": [
    "# Minute data: crab\n",
    "raw_price_data_bear_minute = \\\n",
    "    cryptocompare.get_historical_price_minute(\n",
    "        ticker_symbol,\n",
    "        currency,\n",
    "        limit=limit_value_minute,\n",
    "        exchange=exchange_name,\n",
    "        toTs=crab_market_minute_timestamp_end\n",
    "    )\n",
    "\n",
    "# Convert the raw price data into a DataFrame\n",
    "minutely_price_data_bear = pd.DataFrame.from_dict(raw_price_data_bear_minute)\n",
    "\n",
    "# Set the time columns as index and convert it to datetime\n",
    "minutely_price_data_bear.set_index(\"time\", inplace=True)\n",
    "minutely_price_data_bear.index = pd.to_datetime(minutely_price_data_bear.index, unit='s')\n",
    "minutely_price_data_bear['datetimes'] = minutely_price_data_bear.index\n",
    "minutely_price_data_bear['datetimes'] = minutely_price_data_bear['datetimes'].dt.strftime(\n",
    "    '%Y-%m-%d')\n",
    "\n",
    "minutely_data_crab = prepare(minutely_price_data_bear.iloc[:, :6])\n",
    "minutely_data_crab.to_pickle('./minutely_crab.pkl')"
   ]
  },
  {
   "cell_type": "code",
   "execution_count": null,
   "metadata": {},
   "outputs": [],
   "source": []
  }
 ],
 "metadata": {
  "kernelspec": {
   "display_name": "Python 3",
   "language": "python",
   "name": "python3"
  },
  "language_info": {
   "codemirror_mode": {
    "name": "ipython",
    "version": 3
   },
   "file_extension": ".py",
   "mimetype": "text/x-python",
   "name": "python",
   "nbconvert_exporter": "python",
   "pygments_lexer": "ipython3",
   "version": "3.7.9"
  },
  "orig_nbformat": 4,
  "vscode": {
   "interpreter": {
    "hash": "f3ce3df792d36067c304b10e101c0644826d26e159008826d766ba61b27006a4"
   }
  }
 },
 "nbformat": 4,
 "nbformat_minor": 2
}
