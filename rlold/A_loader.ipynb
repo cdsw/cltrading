{
 "cells": [
  {
   "cell_type": "code",
   "execution_count": 4,
   "metadata": {},
   "outputs": [],
   "source": [
    "import pandas\n",
    "import matplotlib.pyplot as plt\n",
    "import numpy as np\n",
    "\n",
    "def getStationary(df):\n",
    "  df['delta'] = (df['open'] / df ['close']) - 1\n",
    "  df['amplitude'] = (df['high'] / df['low']) - 1\n",
    "  df['close_over_low'] = (df['close'] / df ['low']) - 1\n",
    "  del df['open']\n",
    "  del df['high']\n",
    "  del df['low']\n",
    "  df['volume'] = df['volume']\n",
    "  df['close'] = df['close']\n",
    "  return df"
   ]
  },
  {
   "cell_type": "code",
   "execution_count": 5,
   "metadata": {},
   "outputs": [],
   "source": [
    "df_btc_22 = ((pandas.read_csv('../data/btc22.csv',sep=',')).sort_values('date')[['date','open','high','low','close','volume']]).set_index('date')\n",
    "df_btc_22 = getStationary(df_btc_22)"
   ]
  },
  {
   "cell_type": "code",
   "execution_count": 6,
   "metadata": {},
   "outputs": [],
   "source": [
    "df_btc_22.to_csv('../data/btc22clean.csv')"
   ]
  },
  {
   "cell_type": "code",
   "execution_count": null,
   "metadata": {},
   "outputs": [],
   "source": []
  }
 ],
 "metadata": {
  "kernelspec": {
   "display_name": "Python 3",
   "language": "python",
   "name": "python3"
  },
  "language_info": {
   "codemirror_mode": {
    "name": "ipython",
    "version": 3
   },
   "file_extension": ".py",
   "mimetype": "text/x-python",
   "name": "python",
   "nbconvert_exporter": "python",
   "pygments_lexer": "ipython3",
   "version": "3.9.5"
  }
 },
 "nbformat": 4,
 "nbformat_minor": 2
}
