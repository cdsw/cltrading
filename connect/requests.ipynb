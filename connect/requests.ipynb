{
 "cells": [
  {
   "cell_type": "code",
   "execution_count": 2,
   "metadata": {},
   "outputs": [
    {
     "name": "stdout",
     "output_type": "stream",
     "text": [
      "{'code': -2015, 'msg': 'Invalid API-key, IP, or permissions for action.'}\n"
     ]
    }
   ],
   "source": [
    "import requests\n",
    "from requests.exceptions import ConnectionError, Timeout, TooManyRedirects\n",
    "import json\n",
    "import pandas as pd\n",
    "import hashlib\n",
    "import hmac\n",
    "import time\n",
    "\n",
    "AFX = \"p7hGVwNibtqUaRfOvrO5PEOE0Y9WjzBvFzsV3MSaon32cbe9We7yJ9oszhHJacwh\"\n",
    "SXT = \"n0hPY4t7BZcQnmWAtRg09UHvFRuwEeJDNhYjdFRt5c8j3DDIjXkKgEUlEs0o1vVW\"\n",
    "\n",
    "# Generating signature\n",
    "timestamp = int(time.time() * 1000)\n",
    "query_string = f'timestamp={timestamp}'\n",
    "signature = hmac.new(SXT.encode('utf-8'), query_string.encode('utf-8'), hashlib.sha256).hexdigest()\n",
    "\n",
    "params = {'timestamp': timestamp, 'signature': signature}\n",
    "\n",
    "# #  1m, 5m, 15m, 30m, 1h, 1d.\n",
    "\n",
    "url = 'https://testnet.binance.vision'\n",
    "\n",
    "# api_call = '/api/v3/ticker/price'\n",
    "api_call = '/api/v3/account'\n",
    "\n",
    "headers = {'content-type': 'application/json', \n",
    "            'X-MBX-APIKEY': AFX}\n",
    "\n",
    "response = requests.get(url + api_call, headers=headers, params=params)\n",
    "\n",
    "response = json.loads(response.text)\n",
    "print(response)\n",
    "# df = pd.DataFrame.from_records(response)\n",
    "# df.head()\n"
   ]
  }
 ],
 "metadata": {
  "kernelspec": {
   "display_name": "Python 3",
   "language": "python",
   "name": "python3"
  },
  "language_info": {
   "codemirror_mode": {
    "name": "ipython",
    "version": 3
   },
   "file_extension": ".py",
   "mimetype": "text/x-python",
   "name": "python",
   "nbconvert_exporter": "python",
   "pygments_lexer": "ipython3",
   "version": "3.7.9"
  }
 },
 "nbformat": 4,
 "nbformat_minor": 2
}
