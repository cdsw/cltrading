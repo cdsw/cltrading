{
 "cells": [
  {
   "cell_type": "code",
   "execution_count": null,
   "metadata": {},
   "outputs": [],
   "source": [
    "#!pip install --upgrade --quiet cloudpickle pickle5"
   ]
  },
  {
   "cell_type": "code",
   "execution_count": null,
   "metadata": {},
   "outputs": [],
   "source": [
    "# from stable_baselines3 import PPO, A2C, DQN\n",
    "# import pickle5 as pickle\n",
    "\n",
    "# model_ppo_cont = PPO.load(open('./models/model/ppo-1-5-0.1-35-cont.1-35', 'rb'), device=\"cuda\")\n",
    "# model_ppo_disc = PPO.load(open('./models/model/ppo-1-5-0.1-13-disc.1-13', 'rb'), device=\"cuda\")\n",
    "# model_a2c_cont = A2C.load(open('./models/model/a2c-1-5-0.1-9-cont', 'rb'), device=\"cuda\")\n",
    "# model_a2c_disc = A2C.load(open('./models/model/disc-a2c-1-5-0.1-75', 'rb'), device=\"cuda\")\n",
    "# model_dqn = DQN.load(open('./models/model/dqn-1-5-0.1-20-disc.1-20.zip', 'rb'), device=\"cuda\")"
   ]
  },
  {
   "cell_type": "code",
   "execution_count": 2,
   "metadata": {},
   "outputs": [],
   "source": [
    "from stable_baselines3 import PPO, A2C, DQN\n",
    "import pickle5 as pickle\n",
    "\n",
    "model_ppo_cont = PPO.load(open('./models/rl_model_356768_steps.zip', 'rb'), device=\"cuda\")\n"
   ]
  },
  {
   "cell_type": "code",
   "execution_count": null,
   "metadata": {},
   "outputs": [],
   "source": [
    "import pickle\n",
    "\n",
    "res_sac = pickle.load(open('./results/results/sac-cont-results.pkl', 'rb'))\n",
    "\n",
    "dax, idx = res_sac, 0\n",
    "\n",
    "def get_data(dataset, indexe):\n",
    "  data, figure = dataset[indexe]['data'], dataset[indexe]['figure']\n",
    "  return figure"
   ]
  },
  {
   "cell_type": "code",
   "execution_count": null,
   "metadata": {},
   "outputs": [],
   "source": [
    "get_data(dax, idx)"
   ]
  },
  {
   "cell_type": "code",
   "execution_count": null,
   "metadata": {},
   "outputs": [],
   "source": [
    "def get_delta(dataset, indexe):\n",
    "  benchmark = dataset[indexe]['figure']['data'][0]['y']\n",
    "  portfolio = dataset[indexe]['figure']['data'][2]['y']\n",
    "  delta = portfolio/benchmark\n",
    "  ave_delta = delta.mean()\n",
    "  return ave_delta - 1\n",
    "\n",
    "def get_data_note(dataset, indexe):\n",
    "  portfolio = dataset[indexe]['figure']['data'][2]['y'][-1]\n",
    "  mdd = dataset[indexe]['figure']['data'][3]['y'][-1]\n",
    "  sortino = dataset[indexe]['figure']['data'][1]['y'][-1]\n",
    "  return portfolio - 1, -mdd, sortino\n",
    "\n",
    "print(get_delta(dax, idx), get_data_note(dax, idx))"
   ]
  }
 ],
 "metadata": {
  "kernelspec": {
   "display_name": "Python 3",
   "language": "python",
   "name": "python3"
  },
  "language_info": {
   "codemirror_mode": {
    "name": "ipython",
    "version": 3
   },
   "file_extension": ".py",
   "mimetype": "text/x-python",
   "name": "python",
   "nbconvert_exporter": "python",
   "pygments_lexer": "ipython3",
   "version": "3.7.9"
  },
  "orig_nbformat": 4
 },
 "nbformat": 4,
 "nbformat_minor": 2
}
